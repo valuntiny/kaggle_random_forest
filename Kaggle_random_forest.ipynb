{
 "cells": [
  {
   "cell_type": "markdown",
   "metadata": {},
   "source": [
    "**Guojing Wu** *| 2019-07-03*\n",
    "\n",
    "<a href = \"https://www.kaggle.com/dansbecker/random-forests\">Kaggle: Intro to Machine Learning</a>\n",
    "\n",
    "# Random Forest"
   ]
  },
  {
   "cell_type": "markdown",
   "metadata": {},
   "source": [
    "The random forest uses many trees, and it makes a prediction by averaging the predictions of each component tree. It generally has much better predictive accuracy than a single decision tree and it works well with default parameters."
   ]
  },
  {
   "cell_type": "code",
   "execution_count": 3,
   "metadata": {},
   "outputs": [],
   "source": [
    "from sklearn.ensemble import RandomForestRegressor\n",
    "from sklearn.metrics import mean_absolute_error\n",
    "import pandas as pd\n",
    "from sklearn.model_selection import train_test_split\n",
    "\n",
    "# prepare the training and testing data\n",
    "melbourne_file_path = 'melb_data.csv'\n",
    "melbourne_data = pd.read_csv(melbourne_file_path)\n",
    "y = melbourne_data.Price\n",
    "melbourne_features = ['Rooms', 'Bathroom', 'Landsize', 'Lattitude', 'Longtitude']\n",
    "X = melbourne_data[melbourne_features]\n",
    "train_X, val_X, train_y, val_y = train_test_split(X, y, random_state = 1)"
   ]
  },
  {
   "cell_type": "code",
   "execution_count": 4,
   "metadata": {},
   "outputs": [
    {
     "name": "stderr",
     "output_type": "stream",
     "text": [
      "/Users/wuguojing/anaconda3/lib/python3.7/site-packages/sklearn/ensemble/forest.py:246: FutureWarning: The default value of n_estimators will change from 10 in version 0.20 to 100 in 0.22.\n",
      "  \"10 in version 0.20 to 100 in 0.22.\", FutureWarning)\n"
     ]
    },
    {
     "name": "stdout",
     "output_type": "stream",
     "text": [
      "188984.57351146644\n"
     ]
    }
   ],
   "source": [
    "forest_model = RandomForestRegressor(random_state = 1)\n",
    "forest_model.fit(train_X, train_y)\n",
    "melbourne_predict = forest_model.predict(val_X)\n",
    "print(mean_absolute_error(melbourne_predict, val_y))"
   ]
  },
  {
   "cell_type": "markdown",
   "metadata": {},
   "source": [
    "# Another try\n",
    "\n",
    "## first use CV to see which one is better on training data"
   ]
  },
  {
   "cell_type": "code",
   "execution_count": 1,
   "metadata": {},
   "outputs": [],
   "source": [
    "from sklearn.ensemble import RandomForestRegressor\n",
    "from sklearn.metrics import mean_absolute_error\n",
    "import pandas as pd\n",
    "from sklearn.model_selection import train_test_split\n",
    "from sklearn.tree import DecisionTreeRegressor\n",
    "\n",
    "iowa_file_path = \"train.csv\"\n",
    "home_data = pd.read_csv(iowa_file_path)"
   ]
  },
  {
   "cell_type": "code",
   "execution_count": 2,
   "metadata": {},
   "outputs": [
    {
     "name": "stdout",
     "output_type": "stream",
     "text": [
      "Validation MAE when not specifying max_leaf_nodes: 29,653\n",
      "Validation MAE for best value of max_leaf_nodes: 27,283\n",
      "Validation MAE for Random Forest Model: 22,762\n"
     ]
    },
    {
     "name": "stderr",
     "output_type": "stream",
     "text": [
      "/Users/wuguojing/anaconda3/lib/python3.7/site-packages/sklearn/ensemble/forest.py:246: FutureWarning: The default value of n_estimators will change from 10 in version 0.20 to 100 in 0.22.\n",
      "  \"10 in version 0.20 to 100 in 0.22.\", FutureWarning)\n"
     ]
    }
   ],
   "source": [
    "y = home_data.SalePrice\n",
    "features = ['LotArea', 'YearBuilt', '1stFlrSF', '2ndFlrSF', 'FullBath', 'BedroomAbvGr', 'TotRmsAbvGrd']\n",
    "X = home_data[features]\n",
    "train_X, val_X, train_y, val_y = train_test_split(X, y, random_state = 1)\n",
    "\n",
    "# model 1 without any para. setting\n",
    "iowa_model_dt1 = DecisionTreeRegressor(random_state = 1)\n",
    "iowa_model_dt1.fit(train_X, train_y)\n",
    "val_dt1 = iowa_model_dt1.predict(val_X)\n",
    "val_dt1_mae = mean_absolute_error(val_dt1, val_y)\n",
    "\n",
    "# model 2 with max_leaf_node\n",
    "iowa_model_dt2 = DecisionTreeRegressor(max_leaf_nodes = 100, random_state = 1)\n",
    "iowa_model_dt2.fit(train_X, train_y)\n",
    "val_dt2 = iowa_model_dt2.predict(val_X)\n",
    "val_dt2_mae = mean_absolute_error(val_dt2, val_y)\n",
    "\n",
    "# random forest model\n",
    "iowa_model_rf = RandomForestRegressor(random_state = 1)\n",
    "iowa_model_rf.fit(train_X, train_y)\n",
    "val_rf = iowa_model_rf.predict(val_X)\n",
    "val_rf_mae = mean_absolute_error(val_rf, val_y)\n",
    "\n",
    "print(\"Validation MAE when not specifying max_leaf_nodes: {:,.0f}\".format(val_dt1_mae))\n",
    "print(\"Validation MAE for best value of max_leaf_nodes: {:,.0f}\".format(val_dt2_mae))\n",
    "print(\"Validation MAE for Random Forest Model: {:,.0f}\".format(val_rf_mae))"
   ]
  },
  {
   "cell_type": "markdown",
   "metadata": {},
   "source": [
    "## Now use full training data to train and test data to validate"
   ]
  },
  {
   "cell_type": "code",
   "execution_count": 6,
   "metadata": {},
   "outputs": [],
   "source": [
    "test_data_path = \"test.csv\"\n",
    "test_data = pd.read_csv(test_data_path)\n",
    "test_X = test_data[features]"
   ]
  },
  {
   "cell_type": "code",
   "execution_count": 8,
   "metadata": {},
   "outputs": [
    {
     "name": "stderr",
     "output_type": "stream",
     "text": [
      "/Users/wuguojing/anaconda3/lib/python3.7/site-packages/sklearn/ensemble/forest.py:246: FutureWarning: The default value of n_estimators will change from 10 in version 0.20 to 100 in 0.22.\n",
      "  \"10 in version 0.20 to 100 in 0.22.\", FutureWarning)\n"
     ]
    }
   ],
   "source": [
    "iowa_model_full_rf = RandomForestRegressor(random_state = 1)\n",
    "iowa_model_full_rf.fit(X, y)\n",
    "test_preds = iowa_model_full_rf.predict(test_X)\n",
    "output = pd.DataFrame({'Id': test_data.Id,\n",
    "                       'SalePrice': test_preds})\n",
    "output.to_csv('submission.csv', index=False)"
   ]
  },
  {
   "cell_type": "code",
   "execution_count": null,
   "metadata": {},
   "outputs": [],
   "source": []
  }
 ],
 "metadata": {
  "kernelspec": {
   "display_name": "Python 3",
   "language": "python",
   "name": "python3"
  },
  "language_info": {
   "codemirror_mode": {
    "name": "ipython",
    "version": 3
   },
   "file_extension": ".py",
   "mimetype": "text/x-python",
   "name": "python",
   "nbconvert_exporter": "python",
   "pygments_lexer": "ipython3",
   "version": "3.7.1"
  }
 },
 "nbformat": 4,
 "nbformat_minor": 2
}
